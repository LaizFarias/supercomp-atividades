{
 "cells": [
  {
   "cell_type": "markdown",
   "metadata": {},
   "source": [
    "# Atividade 9 - Supercomputação "
   ]
  },
  {
   "cell_type": "markdown",
   "metadata": {},
   "source": [
    "- Aluno(a): Ana Laiz Farias\n",
    "- Curso: Engenharia de computação\n",
    "- 7 semestre  "
   ]
  },
  {
   "cell_type": "markdown",
   "metadata": {},
   "source": [
    "# Aula 09 - Heurísticas\n",
    "\n",
    "### Mais caro primeiro:\n",
    "1. **Qual a complexidade computacional deste algoritmo? Ele é a melhor implementação possível?**\n",
    "   - Se usarmos um algoritmo de ordenação para organizar os itens pelo valor, a complexidade será \\(O(n \\log n)\\), que é o melhor que podemos fazer para uma estratégia de ordenação. Caso o algoritmo faça um loop duplo, a complexidade seria \\(O(n^2)\\), o que é menos eficiente.\n",
    "\n",
    "### Mais leve primeiro:\n",
    "2. **Compare esta heurística com a da seção anterior levando em conta a complexidade computacional.**\n",
    "   - Ambas as heurísticas têm complexidade similar se utilizarem ordenação, ou seja, \\(O(n \\log n)\\). A diferença entre elas está na forma de selecionar os itens, onde uma foca em pegar os itens mais caros e a outra em pegar os mais leves.\n",
    "\n",
    "3. **Quais partes do programa da heurística anterior podem ser aproveitadas para implementar a descrita acima?**\n",
    "   - A estrutura de ordenação e o mecanismo de verificar se o item cabe na mochila podem ser reaproveitados. A diferença está apenas no critério de ordenação: uma vez por valor e outra por peso.\n",
    "\n",
    "### Analisando nossas heurísticas:\n",
    "4. **Crie uma entrada em que a heurística do mais valioso seja muito melhor que a do mais leve. Coloque no relatório as saídas de cada programa.**\n",
    "   - Um exemplo seria uma entrada onde os itens mais leves têm um valor muito baixo, enquanto os itens mais caros, mesmo pesados, oferecem um valor bem maior. Nesse caso, a heurística \"mais caro primeiro\" seria superior, pois selecionaria itens de maior valor total.\n",
    "\n",
    "5. **Crie uma entrada em que a heurística do mais leve seja muito melhor que a do mais valioso. Coloque no relatório as saídas de cada programa.**\n",
    "   - Podemos criar uma entrada onde os itens mais leves têm um valor muito próximo dos itens mais pesados. Nesse cenário, a heurística \"mais leve primeiro\" seria mais eficiente, pois conseguiria colocar mais itens na mochila, resultando em um valor total maior.\n",
    "\n",
    "6. **Com base nas suas respostas acima, em quais situações a heurística do mais valioso é melhor?**\n",
    "   - A heurística \"mais valioso\" é melhor quando há itens que têm um valor muito mais alto em relação ao peso. Nesses casos, priorizar os itens mais caros maximiza o valor total da mochila.\n",
    "\n",
    "7. **Com base nas suas respostas acima, em quais situações a heurística do mais leve é melhor?**\n",
    "   - A heurística \"mais leve\" é melhor quando a quantidade de itens é mais importante, ou quando os itens têm valores próximos. Nessa situação, conseguimos incluir mais itens na mochila, aumentando o valor total.\n",
    "\n",
    "8. **Qual a complexidade computacional das abordagens?**\n",
    "   - Ambas as abordagens, se feitas com ordenação, têm complexidade \\(O(n \\log n)\\). Caso sejam implementadas de forma ingênua com loops duplos, a complexidade seria \\(O(n^2)\\).\n",
    "\n",
    "9. **Quando uma é melhor que a outra?**\n",
    "   - A heurística do mais valioso é melhor quando o valor dos itens varia muito, e alguns itens são muito mais valiosos que os outros. A heurística do mais leve é melhor quando a quantidade de itens e o peso são fatores decisivos, principalmente quando o valor dos itens é mais homogêneo.\n",
    "\n",
    "10. **Alguma consegue obter o melhor valor possível?**\n",
    "   - Não, nenhuma dessas heurísticas garante o valor ótimo, pois ambas são estratégias gananciosas que tomam decisões locais sem considerar todas as combinações possíveis. Elas podem se aproximar do valor ótimo em alguns casos, mas não garantem a solução perfeita.\n"
   ]
  }
 ],
 "metadata": {
  "language_info": {
   "name": "python"
  }
 },
 "nbformat": 4,
 "nbformat_minor": 2
}
